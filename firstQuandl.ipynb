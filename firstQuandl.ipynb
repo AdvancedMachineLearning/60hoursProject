{
 "cells": [
  {
   "cell_type": "code",
   "execution_count": 75,
   "metadata": {},
   "outputs": [
    {
     "name": "stdout",
     "output_type": "stream",
     "text": [
      "hello world\n"
     ]
    }
   ],
   "source": [
    "print(\"hello world\")"
   ]
  },
  {
   "cell_type": "code",
   "execution_count": 76,
   "metadata": {},
   "outputs": [],
   "source": [
    "\n",
    "import numpy as np\n",
    "import quandl as qnd\n",
    "\n",
    "from pandas import Series\n",
    "from matplotlib import pyplot\n",
    "from statsmodels.tsa.ar_model import AR\n",
    "from sklearn.metrics import mean_squared_error\n"
   ]
  },
  {
   "cell_type": "code",
   "execution_count": 77,
   "metadata": {},
   "outputs": [
    {
     "data": {
      "text/html": [
       "<div>\n",
       "<style scoped>\n",
       "    .dataframe tbody tr th:only-of-type {\n",
       "        vertical-align: middle;\n",
       "    }\n",
       "\n",
       "    .dataframe tbody tr th {\n",
       "        vertical-align: top;\n",
       "    }\n",
       "\n",
       "    .dataframe thead th {\n",
       "        text-align: right;\n",
       "    }\n",
       "</style>\n",
       "<table border=\"1\" class=\"dataframe\">\n",
       "  <thead>\n",
       "    <tr style=\"text-align: right;\">\n",
       "      <th></th>\n",
       "      <th>Open</th>\n",
       "      <th>High</th>\n",
       "      <th>Low</th>\n",
       "      <th>Close</th>\n",
       "      <th>Volume</th>\n",
       "      <th>Ex-Dividend</th>\n",
       "      <th>Split Ratio</th>\n",
       "      <th>Adj. Open</th>\n",
       "      <th>Adj. High</th>\n",
       "      <th>Adj. Low</th>\n",
       "      <th>Adj. Close</th>\n",
       "      <th>Adj. Volume</th>\n",
       "    </tr>\n",
       "    <tr>\n",
       "      <th>Date</th>\n",
       "      <th></th>\n",
       "      <th></th>\n",
       "      <th></th>\n",
       "      <th></th>\n",
       "      <th></th>\n",
       "      <th></th>\n",
       "      <th></th>\n",
       "      <th></th>\n",
       "      <th></th>\n",
       "      <th></th>\n",
       "      <th></th>\n",
       "      <th></th>\n",
       "    </tr>\n",
       "  </thead>\n",
       "  <tbody>\n",
       "    <tr>\n",
       "      <th>1977-01-03</th>\n",
       "      <td>76.50</td>\n",
       "      <td>77.62</td>\n",
       "      <td>76.50</td>\n",
       "      <td>77.62</td>\n",
       "      <td>24800.0</td>\n",
       "      <td>0.0</td>\n",
       "      <td>1.0</td>\n",
       "      <td>2.427156</td>\n",
       "      <td>2.462691</td>\n",
       "      <td>2.427156</td>\n",
       "      <td>2.462691</td>\n",
       "      <td>198400.0</td>\n",
       "    </tr>\n",
       "    <tr>\n",
       "      <th>1977-01-04</th>\n",
       "      <td>77.62</td>\n",
       "      <td>78.00</td>\n",
       "      <td>76.75</td>\n",
       "      <td>77.00</td>\n",
       "      <td>38600.0</td>\n",
       "      <td>0.0</td>\n",
       "      <td>1.0</td>\n",
       "      <td>2.462691</td>\n",
       "      <td>2.474748</td>\n",
       "      <td>2.435088</td>\n",
       "      <td>2.443020</td>\n",
       "      <td>308800.0</td>\n",
       "    </tr>\n",
       "    <tr>\n",
       "      <th>1977-01-05</th>\n",
       "      <td>77.00</td>\n",
       "      <td>77.00</td>\n",
       "      <td>74.50</td>\n",
       "      <td>74.50</td>\n",
       "      <td>35800.0</td>\n",
       "      <td>0.0</td>\n",
       "      <td>1.0</td>\n",
       "      <td>2.443020</td>\n",
       "      <td>2.443020</td>\n",
       "      <td>2.363701</td>\n",
       "      <td>2.363701</td>\n",
       "      <td>286400.0</td>\n",
       "    </tr>\n",
       "    <tr>\n",
       "      <th>1977-01-06</th>\n",
       "      <td>74.50</td>\n",
       "      <td>75.50</td>\n",
       "      <td>74.50</td>\n",
       "      <td>75.12</td>\n",
       "      <td>47800.0</td>\n",
       "      <td>0.0</td>\n",
       "      <td>1.0</td>\n",
       "      <td>2.363701</td>\n",
       "      <td>2.395429</td>\n",
       "      <td>2.363701</td>\n",
       "      <td>2.383372</td>\n",
       "      <td>382400.0</td>\n",
       "    </tr>\n",
       "    <tr>\n",
       "      <th>1977-01-07</th>\n",
       "      <td>75.12</td>\n",
       "      <td>75.38</td>\n",
       "      <td>74.62</td>\n",
       "      <td>75.12</td>\n",
       "      <td>83400.0</td>\n",
       "      <td>0.0</td>\n",
       "      <td>1.0</td>\n",
       "      <td>2.383372</td>\n",
       "      <td>2.391621</td>\n",
       "      <td>2.367509</td>\n",
       "      <td>2.383372</td>\n",
       "      <td>667200.0</td>\n",
       "    </tr>\n",
       "    <tr>\n",
       "      <th>1977-01-10</th>\n",
       "      <td>75.12</td>\n",
       "      <td>75.75</td>\n",
       "      <td>74.50</td>\n",
       "      <td>75.62</td>\n",
       "      <td>26000.0</td>\n",
       "      <td>0.0</td>\n",
       "      <td>1.0</td>\n",
       "      <td>2.383372</td>\n",
       "      <td>2.403361</td>\n",
       "      <td>2.363701</td>\n",
       "      <td>2.399236</td>\n",
       "      <td>208000.0</td>\n",
       "    </tr>\n",
       "    <tr>\n",
       "      <th>1977-01-11</th>\n",
       "      <td>75.62</td>\n",
       "      <td>76.38</td>\n",
       "      <td>74.75</td>\n",
       "      <td>75.00</td>\n",
       "      <td>26600.0</td>\n",
       "      <td>0.0</td>\n",
       "      <td>1.0</td>\n",
       "      <td>2.399236</td>\n",
       "      <td>2.423349</td>\n",
       "      <td>2.371633</td>\n",
       "      <td>2.379565</td>\n",
       "      <td>212800.0</td>\n",
       "    </tr>\n",
       "    <tr>\n",
       "      <th>1977-01-12</th>\n",
       "      <td>74.75</td>\n",
       "      <td>74.75</td>\n",
       "      <td>73.50</td>\n",
       "      <td>74.25</td>\n",
       "      <td>42000.0</td>\n",
       "      <td>0.0</td>\n",
       "      <td>1.0</td>\n",
       "      <td>2.371633</td>\n",
       "      <td>2.371633</td>\n",
       "      <td>2.331974</td>\n",
       "      <td>2.355769</td>\n",
       "      <td>336000.0</td>\n",
       "    </tr>\n",
       "    <tr>\n",
       "      <th>1977-01-13</th>\n",
       "      <td>74.25</td>\n",
       "      <td>76.00</td>\n",
       "      <td>74.12</td>\n",
       "      <td>76.00</td>\n",
       "      <td>54600.0</td>\n",
       "      <td>0.0</td>\n",
       "      <td>1.0</td>\n",
       "      <td>2.355769</td>\n",
       "      <td>2.411293</td>\n",
       "      <td>2.351645</td>\n",
       "      <td>2.411293</td>\n",
       "      <td>436800.0</td>\n",
       "    </tr>\n",
       "    <tr>\n",
       "      <th>1977-01-14</th>\n",
       "      <td>76.00</td>\n",
       "      <td>76.00</td>\n",
       "      <td>75.00</td>\n",
       "      <td>75.00</td>\n",
       "      <td>20800.0</td>\n",
       "      <td>0.0</td>\n",
       "      <td>1.0</td>\n",
       "      <td>2.411293</td>\n",
       "      <td>2.411293</td>\n",
       "      <td>2.379565</td>\n",
       "      <td>2.379565</td>\n",
       "      <td>166400.0</td>\n",
       "    </tr>\n",
       "  </tbody>\n",
       "</table>\n",
       "</div>"
      ],
      "text/plain": [
       "             Open   High    Low  Close   Volume  Ex-Dividend  Split Ratio  \\\n",
       "Date                                                                        \n",
       "1977-01-03  76.50  77.62  76.50  77.62  24800.0          0.0          1.0   \n",
       "1977-01-04  77.62  78.00  76.75  77.00  38600.0          0.0          1.0   \n",
       "1977-01-05  77.00  77.00  74.50  74.50  35800.0          0.0          1.0   \n",
       "1977-01-06  74.50  75.50  74.50  75.12  47800.0          0.0          1.0   \n",
       "1977-01-07  75.12  75.38  74.62  75.12  83400.0          0.0          1.0   \n",
       "1977-01-10  75.12  75.75  74.50  75.62  26000.0          0.0          1.0   \n",
       "1977-01-11  75.62  76.38  74.75  75.00  26600.0          0.0          1.0   \n",
       "1977-01-12  74.75  74.75  73.50  74.25  42000.0          0.0          1.0   \n",
       "1977-01-13  74.25  76.00  74.12  76.00  54600.0          0.0          1.0   \n",
       "1977-01-14  76.00  76.00  75.00  75.00  20800.0          0.0          1.0   \n",
       "\n",
       "            Adj. Open  Adj. High  Adj. Low  Adj. Close  Adj. Volume  \n",
       "Date                                                                 \n",
       "1977-01-03   2.427156   2.462691  2.427156    2.462691     198400.0  \n",
       "1977-01-04   2.462691   2.474748  2.435088    2.443020     308800.0  \n",
       "1977-01-05   2.443020   2.443020  2.363701    2.363701     286400.0  \n",
       "1977-01-06   2.363701   2.395429  2.363701    2.383372     382400.0  \n",
       "1977-01-07   2.383372   2.391621  2.367509    2.383372     667200.0  \n",
       "1977-01-10   2.383372   2.403361  2.363701    2.399236     208000.0  \n",
       "1977-01-11   2.399236   2.423349  2.371633    2.379565     212800.0  \n",
       "1977-01-12   2.371633   2.371633  2.331974    2.355769     336000.0  \n",
       "1977-01-13   2.355769   2.411293  2.351645    2.411293     436800.0  \n",
       "1977-01-14   2.411293   2.411293  2.379565    2.379565     166400.0  "
      ]
     },
     "execution_count": 77,
     "metadata": {},
     "output_type": "execute_result"
    }
   ],
   "source": [
    "\n",
    "# quandl for financial data\n",
    "import quandl\n",
    "# pandas for data manipulation\n",
    "\n",
    "\n",
    "quandl.ApiConfig.api_key = '8pz6yQyPod3Bxcmj3xiK'\n",
    "\n",
    "# Retrieve BP data from Quandl Wiki (the free one we should probably be using)\n",
    "BP = quandl.get('WIKI/BP')\n",
    "BP.head(10)\n",
    "\n"
   ]
  },
  {
   "cell_type": "code",
   "execution_count": 78,
   "metadata": {},
   "outputs": [
    {
     "name": "stderr",
     "output_type": "stream",
     "text": [
      "C:\\ProgramData\\Anaconda3\\lib\\site-packages\\quandl\\get_table.py:38: UserWarning: To request more pages, please set paginate=true in your         quandl.get_table() call. For more information see our documentation:         https://github.com/quandl/quandl-python/blob/master/FOR_ANALYSTS.md#things-to-note\n",
      "  warnings.warn(Message.WARN_PAGE_LIMIT_EXCEEDED, UserWarning)\n"
     ]
    },
    {
     "data": {
      "text/html": [
       "<div>\n",
       "<style scoped>\n",
       "    .dataframe tbody tr th:only-of-type {\n",
       "        vertical-align: middle;\n",
       "    }\n",
       "\n",
       "    .dataframe tbody tr th {\n",
       "        vertical-align: top;\n",
       "    }\n",
       "\n",
       "    .dataframe thead th {\n",
       "        text-align: right;\n",
       "    }\n",
       "</style>\n",
       "<table border=\"1\" class=\"dataframe\">\n",
       "  <thead>\n",
       "    <tr style=\"text-align: right;\">\n",
       "      <th></th>\n",
       "      <th>ticker</th>\n",
       "      <th>date</th>\n",
       "      <th>close</th>\n",
       "    </tr>\n",
       "    <tr>\n",
       "      <th>None</th>\n",
       "      <th></th>\n",
       "      <th></th>\n",
       "      <th></th>\n",
       "    </tr>\n",
       "  </thead>\n",
       "  <tbody>\n",
       "    <tr>\n",
       "      <th>9990</th>\n",
       "      <td>BP</td>\n",
       "      <td>2016-08-10</td>\n",
       "      <td>33.01</td>\n",
       "    </tr>\n",
       "    <tr>\n",
       "      <th>9991</th>\n",
       "      <td>BP</td>\n",
       "      <td>2016-08-11</td>\n",
       "      <td>33.64</td>\n",
       "    </tr>\n",
       "    <tr>\n",
       "      <th>9992</th>\n",
       "      <td>BP</td>\n",
       "      <td>2016-08-12</td>\n",
       "      <td>33.74</td>\n",
       "    </tr>\n",
       "    <tr>\n",
       "      <th>9993</th>\n",
       "      <td>BP</td>\n",
       "      <td>2016-08-15</td>\n",
       "      <td>33.87</td>\n",
       "    </tr>\n",
       "    <tr>\n",
       "      <th>9994</th>\n",
       "      <td>BP</td>\n",
       "      <td>2016-08-16</td>\n",
       "      <td>34.21</td>\n",
       "    </tr>\n",
       "    <tr>\n",
       "      <th>9995</th>\n",
       "      <td>BP</td>\n",
       "      <td>2016-08-17</td>\n",
       "      <td>34.20</td>\n",
       "    </tr>\n",
       "    <tr>\n",
       "      <th>9996</th>\n",
       "      <td>BP</td>\n",
       "      <td>2016-08-18</td>\n",
       "      <td>34.65</td>\n",
       "    </tr>\n",
       "    <tr>\n",
       "      <th>9997</th>\n",
       "      <td>BP</td>\n",
       "      <td>2016-08-19</td>\n",
       "      <td>34.33</td>\n",
       "    </tr>\n",
       "    <tr>\n",
       "      <th>9998</th>\n",
       "      <td>BP</td>\n",
       "      <td>2016-08-22</td>\n",
       "      <td>33.96</td>\n",
       "    </tr>\n",
       "    <tr>\n",
       "      <th>9999</th>\n",
       "      <td>BP</td>\n",
       "      <td>2016-08-23</td>\n",
       "      <td>34.13</td>\n",
       "    </tr>\n",
       "  </tbody>\n",
       "</table>\n",
       "</div>"
      ],
      "text/plain": [
       "     ticker       date  close\n",
       "None                         \n",
       "9990     BP 2016-08-10  33.01\n",
       "9991     BP 2016-08-11  33.64\n",
       "9992     BP 2016-08-12  33.74\n",
       "9993     BP 2016-08-15  33.87\n",
       "9994     BP 2016-08-16  34.21\n",
       "9995     BP 2016-08-17  34.20\n",
       "9996     BP 2016-08-18  34.65\n",
       "9997     BP 2016-08-19  34.33\n",
       "9998     BP 2016-08-22  33.96\n",
       "9999     BP 2016-08-23  34.13"
      ]
     },
     "execution_count": 78,
     "metadata": {},
     "output_type": "execute_result"
    }
   ],
   "source": [
    "data = quandl.get_table('WIKI/PRICES',qopts = {'columns':['ticker','date','close']},ticker = 'BP')\n",
    "data.tail(10)"
   ]
  },
  {
   "cell_type": "code",
   "execution_count": 79,
   "metadata": {},
   "outputs": [],
   "source": [
    "BP = data.close,data.date\n",
    "\n"
   ]
  },
  {
   "cell_type": "code",
   "execution_count": 80,
   "metadata": {},
   "outputs": [
    {
     "data": {
      "text/plain": [
       "[<matplotlib.lines.Line2D at 0x190f0a22320>]"
      ]
     },
     "execution_count": 80,
     "metadata": {},
     "output_type": "execute_result"
    },
    {
     "data": {
      "image/png": "[encoded data removed]",
      "text/plain": [
       "<matplotlib.figure.Figure at 0x190f0a20518>"
      ]
     },
     "metadata": {},
     "output_type": "display_data"
    }
   ],
   "source": [
    "BP[0]\n",
    "plt.plot(BP[1],BP[0])"
   ]
  },
  {
   "cell_type": "code",
   "execution_count": 81,
   "metadata": {},
   "outputs": [
    {
     "data": {
      "text/plain": [
       "<matplotlib.axes._subplots.AxesSubplot at 0x190ef1b8518>"
      ]
     },
     "execution_count": 81,
     "metadata": {},
     "output_type": "execute_result"
    },
    {
     "data": {
      "image/png": "[encoded data removed]",
      "text/plain": [
       "<matplotlib.figure.Figure at 0x190f0a2ff98>"
      ]
     },
     "metadata": {},
     "output_type": "display_data"
    }
   ],
   "source": [
    "from pandas.plotting import lag_plot\n",
    "lag_plot(BP[0])"
   ]
  },
  {
   "cell_type": "code",
   "execution_count": 82,
   "metadata": {},
   "outputs": [
    {
     "data": {
      "text/plain": [
       "None\n",
       "0       77.62\n",
       "1       77.00\n",
       "2       74.50\n",
       "3       75.12\n",
       "4       75.12\n",
       "5       75.62\n",
       "6       75.00\n",
       "7       74.25\n",
       "8       76.00\n",
       "9       75.00\n",
       "10      75.25\n",
       "11      74.88\n",
       "12      77.25\n",
       "13      76.00\n",
       "14      75.62\n",
       "15      76.50\n",
       "16      76.62\n",
       "17      77.00\n",
       "18      76.88\n",
       "19      77.00\n",
       "20      76.50\n",
       "21      76.75\n",
       "22      76.75\n",
       "23      76.62\n",
       "24      77.12\n",
       "25      78.25\n",
       "26      80.75\n",
       "27      83.50\n",
       "28      84.25\n",
       "29      84.25\n",
       "        ...  \n",
       "9970    36.56\n",
       "9971    36.56\n",
       "9972    36.56\n",
       "9973    36.17\n",
       "9974    36.03\n",
       "9975    35.96\n",
       "9976    35.84\n",
       "9977    35.87\n",
       "9978    34.90\n",
       "9979    34.59\n",
       "9980    34.57\n",
       "9981    33.99\n",
       "9982    34.40\n",
       "9983    33.18\n",
       "9984    33.45\n",
       "9985    33.01\n",
       "9986    33.00\n",
       "9987    33.15\n",
       "9988    33.17\n",
       "9989    33.38\n",
       "9990    33.01\n",
       "9991    33.64\n",
       "9992    33.74\n",
       "9993    33.87\n",
       "9994    34.21\n",
       "9995    34.20\n",
       "9996    34.65\n",
       "9997    34.33\n",
       "9998    33.96\n",
       "9999    34.13\n",
       "Name: close, Length: 10000, dtype: float64"
      ]
     },
     "execution_count": 82,
     "metadata": {},
     "output_type": "execute_result"
    },
    {
     "data": {
      "image/png": "[encoded data removed]",
      "text/plain": [
       "<matplotlib.figure.Figure at 0x190f1638828>"
      ]
     },
     "metadata": {},
     "output_type": "display_data"
    }
   ],
   "source": [
    "from pandas.plotting import autocorrelation_plot\n",
    "autocorrelation_plot(BP[0])\n",
    "len(BP[0])\n",
    "X = BP[0]\n",
    "X"
   ]
  },
  {
   "cell_type": "code",
   "execution_count": 102,
   "metadata": {},
   "outputs": [
    {
     "data": {
      "text/plain": [
       "date\n",
       "1977-01-03    77.62\n",
       "1977-01-04    77.00\n",
       "1977-01-05    74.50\n",
       "1977-01-06    75.12\n",
       "1977-01-07    75.12\n",
       "1977-01-10    75.62\n",
       "1977-01-11    75.00\n",
       "1977-01-12    74.25\n",
       "1977-01-13    76.00\n",
       "1977-01-14    75.00\n",
       "1977-01-17    75.25\n",
       "1977-01-18    74.88\n",
       "1977-01-19    77.25\n",
       "1977-01-20    76.00\n",
       "1977-01-21    75.62\n",
       "1977-01-24    76.50\n",
       "1977-01-25    76.62\n",
       "1977-01-26    77.00\n",
       "1977-01-27    76.88\n",
       "1977-01-28    77.00\n",
       "1977-01-31    76.50\n",
       "1977-02-01    76.75\n",
       "1977-02-02    76.75\n",
       "1977-02-03    76.62\n",
       "1977-02-04    77.12\n",
       "1977-02-07    78.25\n",
       "1977-02-08    80.75\n",
       "1977-02-09    83.50\n",
       "1977-02-10    84.25\n",
       "1977-02-11    84.25\n",
       "              ...  \n",
       "2016-07-13    36.56\n",
       "2016-07-14    36.56\n",
       "2016-07-15    36.56\n",
       "2016-07-18    36.17\n",
       "2016-07-19    36.03\n",
       "2016-07-20    35.96\n",
       "2016-07-21    35.84\n",
       "2016-07-22    35.87\n",
       "2016-07-25    34.90\n",
       "2016-07-26    34.59\n",
       "2016-07-27    34.57\n",
       "2016-07-28    33.99\n",
       "2016-07-29    34.40\n",
       "2016-08-01    33.18\n",
       "2016-08-02    33.45\n",
       "2016-08-03    33.01\n",
       "2016-08-04    33.00\n",
       "2016-08-05    33.15\n",
       "2016-08-08    33.17\n",
       "2016-08-09    33.38\n",
       "2016-08-10    33.01\n",
       "2016-08-11    33.64\n",
       "2016-08-12    33.74\n",
       "2016-08-15    33.87\n",
       "2016-08-16    34.21\n",
       "2016-08-17    34.20\n",
       "2016-08-18    34.65\n",
       "2016-08-19    34.33\n",
       "2016-08-22    33.96\n",
       "2016-08-23    34.13\n",
       "Length: 10000, dtype: float64"
      ]
     },
     "execution_count": 102,
     "metadata": {},
     "output_type": "execute_result"
    }
   ],
   "source": [
    "from pandas import Series, datetime\n",
    "\n",
    "import datetime\n",
    "BPX = pd.Series(list(BP[0]),index=BP[1])\n",
    "BPX"
   ]
  },
  {
   "cell_type": "code",
   "execution_count": 131,
   "metadata": {},
   "outputs": [
    {
     "name": "stdout",
     "output_type": "stream",
     "text": [
      "predicted=33.810482, expected=33.870000\n",
      "predicted=33.833787, expected=34.210000\n",
      "predicted=34.326965, expected=34.200000\n",
      "predicted=34.302123, expected=34.650000\n",
      "predicted=34.745578, expected=34.330000\n",
      "predicted=34.379713, expected=33.960000\n",
      "predicted=33.959690, expected=34.130000\n",
      "Test MSE: 0.094\n"
     ]
    },
    {
     "data": {
      "image/png": "[encoded data removed]",
      "text/plain": [
       "<matplotlib.figure.Figure at 0x190f1749be0>"
      ]
     },
     "metadata": {},
     "output_type": "display_data"
    }
   ],
   "source": [
    "from statsmodels.tsa.ar_model import AR\n",
    "from sklearn.metrics import mean_squared_error\n",
    "from matplotlib import pyplot\n",
    "# initiall take some of the later valus as unseen test data:\n",
    "testno = 7\n",
    "X = BPX\n",
    "len(X)\n",
    "train = X[1:len(X)-testno]\n",
    "test = X[len(X)-testno:]\n",
    "Ttrain = T[1:len(T)-testno]\n",
    "Ttest = T[len(T)-testno:]\n",
    "#train the regression model from statsmodels\n",
    "model = AR(train)\n",
    "model_fit = model.fit()\n",
    "window = model_fit.k_ar\n",
    "coefficients = model_fit.params\n",
    "\n",
    "\n",
    "\n",
    "\n",
    "# now do training data\n",
    "knowndata = train[len(train)-window:]\n",
    "knowndata = [knowndata[i] for i in range(len(knowndata))]\n",
    "                                           \n",
    "predictions = list()\n",
    "for t in range(len(test)):\n",
    "    length = len(knowndata)\n",
    "    lag = [knowndata[i] for i in range(length-window,length)]\n",
    "    yhat = coefficients[0]\n",
    "    for d in range(window):\n",
    "        yhat += coefficients[d+1]*lag[window-d-1]\n",
    "    obs = test[t]\n",
    "    predictions.append(yhat)\n",
    "    knowndata.append(obs)\n",
    "    print('predicted=%f, expected=%f' % (yhat,obs))\n",
    "error = mean_squared_error(test,predictions)\n",
    "print('Test MSE: %.3f' % error)\n",
    "pyplot.plot(list(test),color='blue')\n",
    "pyplot.plot(predictions, color='red')\n",
    "pyplot.show()\n",
    "        \n",
    "    \n",
    "                                       \n",
    "                                       \n",
    "\n",
    "                                           \n",
    "                                        \n",
    "                                           \n",
    "                                           \n",
    "                                           \n",
    "                                           \n",
    "                                           "
   ]
  },
  {
   "cell_type": "code",
   "execution_count": 128,
   "metadata": {},
   "outputs": [
    {
     "data": {
      "text/plain": [
       "date\n",
       "2016-08-15    33.87\n",
       "2016-08-16    34.21\n",
       "2016-08-17    34.20\n",
       "2016-08-18    34.65\n",
       "2016-08-19    34.33\n",
       "2016-08-22    33.96\n",
       "2016-08-23    34.13\n",
       "dtype: float64"
      ]
     },
     "execution_count": 128,
     "metadata": {},
     "output_type": "execute_result"
    }
   ],
   "source": [
    "test"
   ]
  },
  {
   "cell_type": "code",
   "execution_count": 129,
   "metadata": {},
   "outputs": [
    {
     "data": {
      "text/plain": [
       "[33.87, 34.21, 34.2, 34.65, 34.33, 33.96, 34.13]"
      ]
     },
     "execution_count": 129,
     "metadata": {},
     "output_type": "execute_result"
    }
   ],
   "source": [
    "list(test)\n"
   ]
  },
  {
   "cell_type": "code",
   "execution_count": 130,
   "metadata": {},
   "outputs": [
    {
     "data": {
      "text/plain": [
       "[<matplotlib.lines.Line2D at 0x190f1046fd0>]"
      ]
     },
     "execution_count": 130,
     "metadata": {},
     "output_type": "execute_result"
    },
    {
     "data": {
      "image/png": "[encoded data removed]",
      "text/plain": [
       "<matplotlib.figure.Figure at 0x190f0fc8278>"
      ]
     },
     "metadata": {},
     "output_type": "display_data"
    }
   ],
   "source": [
    "pyplot.plot(list(test\n",
    "                ))"
   ]
  },
  {
   "cell_type": "code",
   "execution_count": null,
   "metadata": {},
   "outputs": [],
   "source": []
  }
 ],
 "metadata": {
  "kernelspec": {
   "display_name": "Python 3",
   "language": "python",
   "name": "python3"
  },
  "language_info": {
   "codemirror_mode": {
    "name": "ipython",
    "version": 3
   },
   "file_extension": ".py",
   "mimetype": "text/x-python",
   "name": "python",
   "nbconvert_exporter": "python",
   "pygments_lexer": "ipython3",
   "version": "3.6.4"
  }
 },
 "nbformat": 4,
 "nbformat_minor": 2
}
